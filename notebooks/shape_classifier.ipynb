{
 "cells": [
  {
   "cell_type": "markdown",
   "id": "0",
   "metadata": {},
   "source": [
    "# Train A Shape Classifier Model\n",
    "\n"
   ]
  },
  {
   "cell_type": "code",
   "execution_count": 1,
   "id": "1",
   "metadata": {},
   "outputs": [],
   "source": [
    "import json\n",
    "import os\n",
    "\n",
    "train_data_root = \"../datasets/train\"\n",
    "test_data_root = \"../datasets/test\""
   ]
  },
  {
   "cell_type": "code",
   "execution_count": null,
   "id": "2",
   "metadata": {},
   "outputs": [
    {
     "name": "stdout",
     "output_type": "stream",
     "text": [
      "Classes: ['circle', 'diamond', 'triangle']\n"
     ]
    }
   ],
   "source": [
    "import torch\n",
    "import torch.nn as nn\n",
    "import torch.optim as optim\n",
    "import torch.nn.functional as F\n",
    "from torchvision import datasets, transforms\n",
    "from torch.utils.data import DataLoader\n",
    "import os\n",
    "\n",
    "# Set device\n",
    "device = torch.device(\"cuda\" if torch.cuda.is_available() else \"cpu\")\n",
    "\n",
    "# Define transformations (including resizing and normalization)\n",
    "transform = transforms.Compose([\n",
    "    transforms.Grayscale(num_output_channels=1),  # Convert to grayscale (black and white images)\n",
    "    transforms.Resize((64, 64)),  # Resize images to 64x64 pixels\n",
    "    transforms.ToTensor(),  # Convert the image to a tensor\n",
    "    transforms.Normalize((0.5,), (0.5,))  # Normalize the images (mean=0.5, std=0.5 for grayscale)\n",
    "])\n",
    "\n",
    "# Load the dataset\n",
    "train_dataset = datasets.ImageFolder(root=train_data_root, transform=transform)\n",
    "test_dataset = datasets.ImageFolder(root=test_data_root, transform=transform)\n",
    "\n",
    "train_loader = DataLoader(train_dataset, batch_size=32, shuffle=True)\n",
    "test_loader = DataLoader(test_dataset, batch_size=32, shuffle=False)\n",
    "\n",
    "# Check class names (optional)\n",
    "print(f'Classes: {train_dataset.classes}')\n",
    "\n",
    "# 2. Define a simple CNN model\n",
    "class SimpleCNN(nn.Module):\n",
    "    def __init__(self):\n",
    "        super(SimpleCNN, self).__init__()\n",
    "        self.conv1 = nn.Conv2d(1, 16, kernel_size=3, padding=1) #tenshor shape: (batch_size, 1, 64, 64) to tensor shape: (batch_size, 16, 32, 32)\n",
    "        self.conv2 = nn.Conv2d(16, 32, kernel_size=3, padding=1) #tenshor shape: (batch_size, 16, 32, 32) to tensor shape: (batch_size, 32, 16, 16)\n",
    "        self.fc1 = nn.Linear(32 * 16 * 16, 128)\n",
    "        self.fc2 = nn.Linear(128, 3)  # 3 classes: circle, triangle, rectangle\n",
    "        \n",
    "    def forward(self, x):\n",
    "        x = F.relu(self.conv1(x))   # First Conv Layer\n",
    "        x = F.max_pool2d(x, 2)      # Max Pooling\n",
    "        x = F.relu(self.conv2(x))   # Second Conv Layer\n",
    "        x = F.max_pool2d(x, 2)      # Max Pooling\n",
    "        x = x.view(x.size(0), -1)   # Flatten\n",
    "        x = F.relu(self.fc1(x))     # Fully Connected Layer 1\n",
    "        x = self.fc2(x)             # Fully Connected Layer 2 (output)\n",
    "        return x\n",
    "\n",
    "model = SimpleCNN().to(device)\n",
    "criterion = nn.CrossEntropyLoss()\n",
    "optimizer = optim.Adam(model.parameters(), lr=0.001)\n",
    "\n",
    "def train_model(model, train_loader, criterion, optimizer, epochs=10):\n",
    "    model.train()\n",
    "    for epoch in range(epochs):\n",
    "        running_loss = 0.0\n",
    "        correct = 0\n",
    "        total = 0\n",
    "        for images, labels in train_loader:\n",
    "            images, labels = images.to(device), labels.to(device)\n",
    "            \n",
    "            # Zero the parameter gradients\n",
    "            optimizer.zero_grad()\n",
    "            \n",
    "            # Forward pass\n",
    "            outputs = model(images)\n",
    "            loss = criterion(outputs, labels)\n",
    "            \n",
    "            # Backward pass and optimize\n",
    "            loss.backward()\n",
    "            optimizer.step()\n",
    "            \n",
    "            # Statistics\n",
    "            running_loss += loss.item()\n",
    "            _, predicted = torch.max(outputs, 1)\n",
    "            total += labels.size(0)\n",
    "            correct += (predicted == labels).sum().item()\n",
    "        \n",
    "        accuracy = 100 * correct / total\n",
    "        print(f'Epoch [{epoch+1}/{epochs}], Loss: {running_loss/len(train_loader):.4f}, Accuracy: {accuracy:.2f}%')\n"
   ]
  },
  {
   "cell_type": "markdown",
   "id": "3",
   "metadata": {},
   "source": [
    "# Train"
   ]
  },
  {
   "cell_type": "code",
   "execution_count": 3,
   "id": "4",
   "metadata": {},
   "outputs": [
    {
     "name": "stdout",
     "output_type": "stream",
     "text": [
      "Epoch [1/15], Loss: 1.1007, Accuracy: 0.00%\n",
      "Epoch [2/15], Loss: 0.9940, Accuracy: 0.00%\n",
      "Epoch [3/15], Loss: 0.9025, Accuracy: 0.00%\n",
      "Epoch [4/15], Loss: 0.7319, Accuracy: 0.00%\n",
      "Epoch [5/15], Loss: 0.5177, Accuracy: 0.00%\n",
      "Epoch [6/15], Loss: 0.3261, Accuracy: 0.00%\n",
      "Epoch [7/15], Loss: 0.2105, Accuracy: 0.00%\n",
      "Epoch [8/15], Loss: 0.1368, Accuracy: 0.00%\n",
      "Epoch [9/15], Loss: 0.0714, Accuracy: 0.00%\n",
      "Epoch [10/15], Loss: 0.0376, Accuracy: 0.00%\n",
      "Epoch [11/15], Loss: 0.0223, Accuracy: 0.00%\n",
      "Epoch [12/15], Loss: 0.0141, Accuracy: 0.00%\n",
      "Epoch [13/15], Loss: 0.0099, Accuracy: 0.00%\n",
      "Epoch [14/15], Loss: 0.0075, Accuracy: 0.00%\n",
      "Epoch [15/15], Loss: 0.0053, Accuracy: 0.00%\n"
     ]
    }
   ],
   "source": [
    "train_model(model, train_loader, criterion, optimizer, epochs=15)"
   ]
  },
  {
   "cell_type": "markdown",
   "id": "5",
   "metadata": {},
   "source": [
    "# Test "
   ]
  },
  {
   "cell_type": "code",
   "execution_count": 5,
   "id": "6",
   "metadata": {},
   "outputs": [
    {
     "name": "stdout",
     "output_type": "stream",
     "text": [
      "Class 0 - Precision: 0.6667, Recall: 0.8000, F1-score: 0.7273\n",
      "Class 1 - Precision: 0.7527, Recall: 0.6731, F1-score: 0.7107\n",
      "Class 2 - Precision: 0.9697, Recall: 0.9057, F1-score: 0.9366\n",
      "Macro Average - Precision: 0.7964, Recall: 0.7929, F1-score: 0.7915\n"
     ]
    }
   ],
   "source": [
    "from sklearn.metrics import precision_recall_fscore_support\n",
    "import numpy as np\n",
    "\n",
    "def test(model, test_loader):\n",
    "    model.eval()\n",
    "    all_labels = [] \n",
    "    all_preds = []\n",
    "    with torch.no_grad():\n",
    "        for images, labels in test_loader:\n",
    "            images, labels = images.to(device), labels.to(device)\n",
    "            outputs = model(images)\n",
    "            _, predicted = torch.max(outputs, 1)\n",
    "            all_labels.extend(labels.cpu().numpy())\n",
    "            all_preds.extend(predicted.cpu().numpy())\n",
    "\n",
    "    #Calculate precision, recall, and F1-score for each class\n",
    "    precision, recall, f1, _ = precision_recall_fscore_support(all_labels, all_preds, average=None)\n",
    "\n",
    "    def safe_iter(x):\n",
    "        #if salar, covnert to 1-element list for iteration\n",
    "        if np.isscalar(x):\n",
    "            return [x]\n",
    "        return x\n",
    "    precision = safe_iter(precision)\n",
    "    recall = safe_iter(recall)\n",
    "    f1 = safe_iter(f1)\n",
    "\n",
    "    for i, (p, r ,f) in enumerate(zip(precision, recall, f1)):\n",
    "        print(f'Class {i} - Precision: {p:.4f}, Recall: {r:.4f}, F1-score: {f:.4f}')\n",
    "    \n",
    "    #Calculate and print overall macro averages\n",
    "    precision_macro, recall_macro, f1_macro, _ = precision_recall_fscore_support(all_labels, all_preds, average='macro')\n",
    "    print(f'Macro Average - Precision: {precision_macro:.4f}, Recall: {recall_macro:.4f}, F1-score: {f1_macro:.4f}')\n",
    "\n",
    "test(model, test_loader)"
   ]
  },
  {
   "cell_type": "markdown",
   "id": "7",
   "metadata": {},
   "source": [
    "# Show Predictions\n"
   ]
  },
  {
   "cell_type": "code",
   "execution_count": 8,
   "id": "8",
   "metadata": {},
   "outputs": [
    {
     "data": {
      "image/png": "[encoded data removed]",
      "text/plain": [
       "<Figure size 640x480 with 1 Axes>"
      ]
     },
     "metadata": {},
     "output_type": "display_data"
    }
   ],
   "source": [
    "import matplotlib.pyplot as plt\n",
    "import torch.nn.functional as F\n",
    "\n",
    "#Class names matching your dataset folder order\n",
    "class_names = ['circle', 'diamond', 'triangle']\n",
    "def show_prediction(model, image):\n",
    "    model.eval()\n",
    "\n",
    "    #Add batch dimension if missing\n",
    "    if image.dim() == 3:\n",
    "        image = image.unsqueeze(0) #shape [1, C, H, W]\n",
    "\n",
    "    with torch.no_grad():\n",
    "        outputs = model(image.to(device))\n",
    "        probs = F.softmax(outputs, dim=1) #convert logits to probabilities\n",
    "        conf, pred_idx = torch.max(probs, 1)\n",
    "\n",
    "    #Convert tensor to CPU numpy array for plotting\n",
    "    img_np = image.squeeze().cpu().numpy()\n",
    "\n",
    "    #Plot Image\n",
    "    plt.imshow(img_np, cmap='gray')\n",
    "    plt.axis('off')\n",
    "\n",
    "    # Prepare texit with prediction and confidence %\n",
    "    label = class_names[pred_idx.item()]\n",
    "    confidence = conf.item() * 100\n",
    "    title = f'Predicted: {label} ({confidence:.2f}%)'\n",
    "    plt.title(title)\n",
    "\n",
    "image, label = test_dataset[298]\n",
    "show_prediction(model, image)\n"
   ]
  }
 ],
 "metadata": {
  "kernelspec": {
   "display_name": ".conda",
   "language": "python",
   "name": "python3"
  },
  "language_info": {
   "codemirror_mode": {
    "name": "ipython",
    "version": 3
   },
   "file_extension": ".py",
   "mimetype": "text/x-python",
   "name": "python",
   "nbconvert_exporter": "python",
   "pygments_lexer": "ipython3",
   "version": "3.11.11"
  }
 },
 "nbformat": 4,
 "nbformat_minor": 5
}
